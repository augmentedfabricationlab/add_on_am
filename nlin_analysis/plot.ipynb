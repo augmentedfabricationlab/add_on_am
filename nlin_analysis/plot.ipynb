{
 "cells": [
  {
   "cell_type": "code",
   "execution_count": 3,
   "metadata": {},
   "outputs": [],
   "source": [
    "f = open(\"sta_geo_nonlin_load_disp_curve.dat\", \"r\")\n",
    "# print(f.read()) \n",
    "load_curve = []\n",
    "disp_curve = []\n",
    "for line in f:\n",
    "    l = line.split()\n",
    "    if l[0] ==\"#\":\n",
    "        continue\n",
    "    load_curve.append(l[0])\n",
    "    disp_curve.append(l[1])"
   ]
  },
  {
   "cell_type": "code",
   "execution_count": 4,
   "metadata": {},
   "outputs": [],
   "source": [
    "f = open(\"load_sta_geo_nonlin_load_disp_curve.dat\", \"r\")\n",
    "# print(f.read()) \n",
    "load_curve_two = []\n",
    "disp_curve_two = []\n",
    "for line in f:\n",
    "    l = line.split()\n",
    "    if l[0] ==\"#\":\n",
    "        continue\n",
    "    load_curve_two.append(l[0])\n",
    "    disp_curve_two.append(l[1])"
   ]
  },
  {
   "cell_type": "code",
   "execution_count": 5,
   "metadata": {},
   "outputs": [],
   "source": [
    "f = open(\"disp_sta_geo_nonlin_load_disp_curve.dat\", \"r\")\n",
    "# print(f.read()) \n",
    "load_curve_three = []\n",
    "disp_curve_three = []\n",
    "for line in f:\n",
    "    l = line.split()\n",
    "    if l[0] ==\"#\":\n",
    "        continue\n",
    "    load_curve_three.append(l[0])\n",
    "    disp_curve_three.append(l[1])"
   ]
  },
  {
   "cell_type": "code",
   "execution_count": null,
   "metadata": {
    "colab": {
     "base_uri": "https://localhost:8080/",
     "height": 542
    },
    "colab_type": "code",
    "id": "ScoqwWlEvlMc",
    "outputId": "f5192b86-a0d0-4660-d3bc-10406e6253e7"
   },
   "outputs": [],
   "source": [
    "import plotly.graph_objects as go\n",
    "\n",
    "# load_curve = [0, 10, 20, 30, 40, 50, 60, 70, 80, 90, 100, 110, 120, 130, 140, 150, 160, 170, 180, 181.25, 182.5, 183.75, 185, 186.25, 187.5, 188.75, 190, 190, 200]\n",
    "# disp_curve = [0, 5.932085551e-05, 0.0001186654561, 0.0001780592594, 0.0002375312895, 0.0002971160725, 0.0003568549166, 0.0004167975624, 0.0004770043322, 0.0005375489581, 0.0005985223444, 0.0006600376389, 0.0007222371624, 0.0007853020373, 0.0008494658201, 0.0009150342479, 0.000982414635, 0.001052161214, 0.001125049443, 0.001222156172, 0.001236849569, 0.001252175436, 0.001268274962, 0.001299192468, 0.001320367142, 0.001343307131, 0.001368357392, 0.001368357392, 0.06700302827]\n",
    "\n",
    "fig = go.Figure({'layout':{'xaxis':{'title':{'text':'Displacement'}},'yaxis':{'title':{'text':'Lambda'}}}})\n",
    "\n",
    "# fig.add_scatter(name=\"nlin\", x=disp_curve, y=load_curve)\n",
    "fig.add_scatter(name=\"Load Control\", x=disp_curve_two, y=load_curve_two)\n",
    "fig.add_scatter(name=\"Displacement Control\", x=disp_curve_three, y=load_curve_three)\n",
    "\n",
    "fig"
   ]
  },
  {
   "cell_type": "code",
   "execution_count": null,
   "metadata": {},
   "outputs": [],
   "source": []
  },
  {
   "cell_type": "code",
   "execution_count": null,
   "metadata": {},
   "outputs": [],
   "source": []
  }
 ],
 "metadata": {
  "colab": {
   "name": "Untitled6.ipynb",
   "provenance": []
  },
  "kernelspec": {
   "display_name": "Python 3",
   "language": "python",
   "name": "python3"
  },
  "language_info": {
   "codemirror_mode": {
    "name": "ipython",
    "version": 3
   },
   "file_extension": ".py",
   "mimetype": "text/x-python",
   "name": "python",
   "nbconvert_exporter": "python",
   "pygments_lexer": "ipython3",
   "version": "3.7.6"
  },
  "nteract": {
   "version": "0.23.1"
  }
 },
 "nbformat": 4,
 "nbformat_minor": 4
}
